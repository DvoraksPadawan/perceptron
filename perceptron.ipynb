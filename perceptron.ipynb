{
  "metadata": {
    "language_info": {
      "codemirror_mode": {
        "name": "python",
        "version": 3
      },
      "file_extension": ".py",
      "mimetype": "text/x-python",
      "name": "python",
      "nbconvert_exporter": "python",
      "pygments_lexer": "ipython3",
      "version": "3.8"
    },
    "kernelspec": {
      "name": "python",
      "display_name": "Python (Pyodide)",
      "language": "python"
    }
  },
  "nbformat_minor": 4,
  "nbformat": 4,
  "cells": [
    {
      "cell_type": "code",
      "source": "import numpy as np",
      "metadata": {
        "trusted": true
      },
      "execution_count": 3,
      "outputs": []
    },
    {
      "cell_type": "code",
      "source": "class Perceptron:\n    def __init__(self):\n        self.w1 = np.random.random()\n        self.w2 = np.random.random()\n        self.b = np.random.random()\n        self.iterations = 1000\n        self.LR = 0.01\n    def predict(self, x1, x2):\n        sum = x1*self.w1 + x2*self.w2 + self.b\n        pred = self.action(sum)\n        return pred\n    def action(self, x):\n        if x < 1.0:\n            return 0\n        return 1\n    def fit(self, X, Y):\n        for iteration in range(self.iterations):\n            for x, y in zip(X, Y):\n                pred = self.predict(*x)\n                #print(x,y,pred)\n                #print(self.w1, self.w2, self.b)\n                if pred == y:\n                    continue\n                change = 1\n                if pred > y:\n                    change = -change\n                if x[0] != 0:\n                    self.w1 += change * self.LR\n                if x[1] != 0:\n                    self.w2 += change * self.LR\n                self.b += change * self.LR\n                #print(self.w1, self.w2, self.b)\n                \nX = [\n    [0,0],\n    [1,0],\n    [0,1],\n    [1,1]\n    ]\nY = [0,1,1,1]\nneuron = Perceptron()\nneuron.fit(X, Y)\npredictions = []\nfor x in X:\n    pred = neuron.predict(*x)\n    predictions.append(pred)\npredictions\n\n\n\n",
      "metadata": {
        "trusted": true
      },
      "execution_count": 37,
      "outputs": [
        {
          "execution_count": 37,
          "output_type": "execute_result",
          "data": {
            "text/plain": "[0, 1, 1, 1]"
          },
          "metadata": {}
        }
      ]
    },
    {
      "cell_type": "code",
      "source": "",
      "metadata": {},
      "execution_count": null,
      "outputs": []
    }
  ]
}